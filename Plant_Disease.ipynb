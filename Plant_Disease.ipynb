{
  "nbformat": 4,
  "nbformat_minor": 0,
  "metadata": {
    "colab": {
      "provenance": [],
      "mount_file_id": "1G3eSecnVUYTiWevxeH_nSiqB6uXdYW4p",
      "authorship_tag": "ABX9TyN7Raib+kjRubmHnTJOrkH2",
      "include_colab_link": true
    },
    "kernelspec": {
      "name": "python3",
      "display_name": "Python 3"
    },
    "language_info": {
      "name": "python"
    },
    "accelerator": "GPU",
    "gpuClass": "standard"
  },
  "cells": [
    {
      "cell_type": "markdown",
      "metadata": {
        "id": "view-in-github",
        "colab_type": "text"
      },
      "source": [
        "<a href=\"https://colab.research.google.com/github/alengeorge-26/Plant-Disease-Classifier/blob/main/Plant_Disease.ipynb\" target=\"_parent\"><img src=\"https://colab.research.google.com/assets/colab-badge.svg\" alt=\"Open In Colab\"/></a>"
      ]
    },
    {
      "cell_type": "code",
      "source": [
        "from google.colab import drive\n",
        "drive.mount('/content/drive/')"
      ],
      "metadata": {
        "id": "m1uvDlnPcnj9"
      },
      "execution_count": null,
      "outputs": []
    },
    {
      "cell_type": "code",
      "source": [
        "import tensorflow as tf\n",
        "from tensorflow.keras import models,layers\n",
        "import matplotlib.pyplot as plt"
      ],
      "metadata": {
        "id": "flbJJgR2fRAj"
      },
      "execution_count": 2,
      "outputs": []
    },
    {
      "cell_type": "code",
      "source": [
        "IMAGE_SIZE =256\n",
        "BATCH_SIZE=32\n",
        "CHANNELS=3\n",
        "EPOCHS=50\n",
        "DIRECTORY=\"/content/drive/MyDrive/Plant_DIsease/PlantVillage\""
      ],
      "metadata": {
        "id": "IiyRRXowgmLY"
      },
      "execution_count": 21,
      "outputs": []
    },
    {
      "cell_type": "code",
      "source": [
        "dataset=tf.keras.utils.image_dataset_from_directory(\n",
        "  DIRECTORY,\n",
        "   shuffle=True,\n",
        "   image_size=(IMAGE_SIZE,IMAGE_SIZE),\n",
        "   batch_size=BATCH_SIZE\n",
        ")"
      ],
      "metadata": {
        "id": "1zJ2TjaWgIBe"
      },
      "execution_count": null,
      "outputs": []
    },
    {
      "cell_type": "code",
      "source": [
        "class_names=dataset.class_names"
      ],
      "metadata": {
        "id": "lg2HljlCitxQ"
      },
      "execution_count": null,
      "outputs": []
    },
    {
      "cell_type": "code",
      "source": [
        "def get_dataset_partitions_tf(ds,train_split=.8,val_split=.1,test_split=.1,shuffle=True,shuffle_size=10000):\n",
        "  \n",
        "  ds_size=len(ds)\n",
        "\n",
        "  if shuffle:\n",
        "    ds=ds.shuffle(shuffle_size,seed=12)\n",
        "\n",
        "  train_size=int(train_split*ds_size)\n",
        "  val_size=int(val_split*ds_size)\n",
        "\n",
        "  train_ds=ds.take(train_size)\n",
        "\n",
        "  val_ds=ds.skip(train_size).take(val_size)\n",
        " \n",
        "  test_ds=ds.skip(train_size).skip(val_size)\n",
        "  \n",
        "  return train_ds,val_ds,test_ds"
      ],
      "metadata": {
        "id": "OhcVAtBxLOSE"
      },
      "execution_count": 6,
      "outputs": []
    },
    {
      "cell_type": "code",
      "source": [
        "train_ds,val_ds,test_ds=get_dataset_partitions_tf(dataset)"
      ],
      "metadata": {
        "id": "WwaH7ylDO-j1"
      },
      "execution_count": 7,
      "outputs": []
    },
    {
      "cell_type": "code",
      "source": [
        "train_ds=train_ds.cache().shuffle(1000).prefetch(buffer_size=tf.data.AUTOTUNE)\n",
        "val_ds=val_ds.cache().shuffle(1000).prefetch(buffer_size=tf.data.AUTOTUNE)\n",
        "test_ds=test_ds.cache().shuffle(1000).prefetch(buffer_size=tf.data.AUTOTUNE)"
      ],
      "metadata": {
        "id": "LoNfeCgfPptX"
      },
      "execution_count": 8,
      "outputs": []
    },
    {
      "cell_type": "code",
      "source": [
        "resize_and_rescale=tf.keras.Sequential([\n",
        "    layers.experimental.preprocessing.Resizing(IMAGE_SIZE,IMAGE_SIZE),\n",
        "    layers.experimental.preprocessing.Rescaling(1.0/255)\n",
        "])"
      ],
      "metadata": {
        "id": "Q7qo2uuBPqAD"
      },
      "execution_count": 9,
      "outputs": []
    },
    {
      "cell_type": "code",
      "source": [
        "data_augmentation=tf.keras.Sequential([\n",
        "    layers.experimental.preprocessing.RandomFlip(\"horizontal_and_vertical\"),\n",
        "    layers.experimental.preprocessing.RandomRotation(0.2)\n",
        "])"
      ],
      "metadata": {
        "id": "mmT0D58gUdxr"
      },
      "execution_count": 10,
      "outputs": []
    },
    {
      "cell_type": "code",
      "source": [
        "input_shape=(BATCH_SIZE,IMAGE_SIZE,IMAGE_SIZE,CHANNELS)\n",
        "n_classes=3\n",
        "\n",
        "model=models.Sequential([\n",
        "    resize_and_rescale,\n",
        "    layers.Conv2D(32,(3,3),activation='relu',input_shape=input_shape),\n",
        "    layers.MaxPooling2D((2,2,)),\n",
        "    layers.Conv2D(64,(3,3),activation='relu'),\n",
        "    layers.MaxPooling2D((2,2,)),\n",
        "    layers.Conv2D(64,(3,3),activation='relu'),\n",
        "    layers.MaxPooling2D((2,2,)),\n",
        "    layers.Conv2D(64,(3,3),activation='relu'),\n",
        "    layers.MaxPooling2D((2,2,)),\n",
        "    layers.Conv2D(64,(3,3),activation='relu'),\n",
        "    layers.MaxPooling2D((2,2,)),\n",
        "    layers.Conv2D(64,(3,3),activation='relu'),\n",
        "    layers.MaxPooling2D((2,2,)),\n",
        "\n",
        "    layers.Flatten(),\n",
        "    \n",
        "    layers.Dense(64,activation='relu'),\n",
        "    layers.Dense(n_classes,activation='softmax')\n",
        "])\n",
        "\n",
        "model.build(input_shape=input_shape)"
      ],
      "metadata": {
        "id": "rvEu-CmwXUOP"
      },
      "execution_count": 30,
      "outputs": []
    },
    {
      "cell_type": "code",
      "source": [
        "model.summary()"
      ],
      "metadata": {
        "id": "vy7dyYvzXUFn"
      },
      "execution_count": null,
      "outputs": []
    },
    {
      "cell_type": "code",
      "source": [
        "model.compile(\n",
        "    optimizer='adam',\n",
        "    loss=tf.keras.losses.SparseCategoricalCrossentropy(from_logits=False),\n",
        "    metrics=['accuracy']\n",
        ")"
      ],
      "metadata": {
        "id": "JxkueaxgyZl8"
      },
      "execution_count": 32,
      "outputs": []
    },
    {
      "cell_type": "code",
      "source": [
        "history=model.fit(\n",
        "    train_ds,\n",
        "    epochs=EPOCHS,\n",
        "    batch_size=BATCH_SIZE,\n",
        "    verbose=1,\n",
        "    validation_data=val_ds\n",
        ")"
      ],
      "metadata": {
        "id": "W1SCBfi5yv2b"
      },
      "execution_count": null,
      "outputs": []
    },
    {
      "cell_type": "code",
      "source": [],
      "metadata": {
        "id": "Nneiy-3H5esK"
      },
      "execution_count": null,
      "outputs": []
    }
  ]
}