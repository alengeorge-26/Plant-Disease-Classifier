{
  "nbformat": 4,
  "nbformat_minor": 0,
  "metadata": {
    "colab": {
      "provenance": [],
      "mount_file_id": "1G3eSecnVUYTiWevxeH_nSiqB6uXdYW4p",
      "authorship_tag": "ABX9TyMWIxcmHj7VlzrYc5xaSSfY",
      "include_colab_link": true
    },
    "kernelspec": {
      "name": "python3",
      "display_name": "Python 3"
    },
    "language_info": {
      "name": "python"
    },
    "accelerator": "GPU",
    "gpuClass": "standard"
  },
  "cells": [
    {
      "cell_type": "markdown",
      "metadata": {
        "id": "view-in-github",
        "colab_type": "text"
      },
      "source": [
        "<a href=\"https://colab.research.google.com/github/alengeorge-26/Plant-Disease-Classifier/blob/main/Plant_Disease.ipynb\" target=\"_parent\"><img src=\"https://colab.research.google.com/assets/colab-badge.svg\" alt=\"Open In Colab\"/></a>"
      ]
    },
    {
      "cell_type": "code",
      "source": [
        "from google.colab import drive\n",
        "drive.mount('/content/drive/')"
      ],
      "metadata": {
        "id": "m1uvDlnPcnj9"
      },
      "execution_count": null,
      "outputs": []
    },
    {
      "cell_type": "code",
      "source": [
        "import tensorflow as tf\n",
        "from tensorflow.keras import models,layers\n",
        "import matplotlib.pyplot as plt"
      ],
      "metadata": {
        "id": "flbJJgR2fRAj"
      },
      "execution_count": null,
      "outputs": []
    },
    {
      "cell_type": "code",
      "source": [
        "IMAGE_SIZE =256\n",
        "BATCH_SIZE=32\n",
        "DIRECTORY=\"/content/drive/MyDrive/Plant_DIsease/PlantVillage\""
      ],
      "metadata": {
        "id": "IiyRRXowgmLY"
      },
      "execution_count": null,
      "outputs": []
    },
    {
      "cell_type": "code",
      "source": [
        "dataset=tf.keras.utils.image_dataset_from_directory(\n",
        "  DIRECTORY,\n",
        "   shuffle=True,\n",
        "   image_size=(IMAGE_SIZE,IMAGE_SIZE),\n",
        "   batch_size=BATCH_SIZE\n",
        ")"
      ],
      "metadata": {
        "id": "1zJ2TjaWgIBe"
      },
      "execution_count": null,
      "outputs": []
    },
    {
      "cell_type": "code",
      "source": [
        "class_names=dataset.class_names\n",
        "class_names"
      ],
      "metadata": {
        "id": "lg2HljlCitxQ"
      },
      "execution_count": null,
      "outputs": []
    },
    {
      "cell_type": "code",
      "source": [
        "train_size=.8\n",
        "len(dataset)*train_size"
      ],
      "metadata": {
        "id": "AfMGsl4ErgaR"
      },
      "execution_count": null,
      "outputs": []
    },
    {
      "cell_type": "code",
      "source": [
        "train_ds=dataset.take(54)\n",
        "testing_ds=dataset.skip(54)\n",
        "len(testing_ds)"
      ],
      "metadata": {
        "colab": {
          "base_uri": "https://localhost:8080/"
        },
        "id": "pE8sB77grx1-",
        "outputId": "e3d5bfe8-26e5-4a5f-e721-9952892c515c"
      },
      "execution_count": null,
      "outputs": [
        {
          "output_type": "execute_result",
          "data": {
            "text/plain": [
              "14"
            ]
          },
          "metadata": {},
          "execution_count": 50
        }
      ]
    },
    {
      "cell_type": "code",
      "source": [
        "val_ds=testing_ds.take(6)\n",
        "test_ds=testing_ds.skip(6)\n",
        "len(test_ds)"
      ],
      "metadata": {
        "colab": {
          "base_uri": "https://localhost:8080/"
        },
        "id": "nCCjMt8QtzNd",
        "outputId": "1a4743dd-6b26-4eb0-fe7a-df9f0b035705"
      },
      "execution_count": null,
      "outputs": [
        {
          "output_type": "execute_result",
          "data": {
            "text/plain": [
              "8"
            ]
          },
          "metadata": {},
          "execution_count": 52
        }
      ]
    }
  ]
}